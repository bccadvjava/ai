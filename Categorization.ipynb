{
 "cells": [
  {
   "cell_type": "markdown",
   "metadata": {},
   "source": [
    "# classification"
   ]
  },
  {
   "cell_type": "markdown",
   "metadata": {},
   "source": [
    "#### load data, categorize the overall column in sentiment"
   ]
  },
  {
   "cell_type": "code",
   "execution_count": 2,
   "metadata": {
    "scrolled": true
   },
   "outputs": [
    {
     "name": "stdout",
     "output_type": "stream",
     "text": [
      "sentiment\n",
      "NEGATIVE     62\n",
      "NEUTRAL     103\n",
      "POSITIVE    835\n",
      "Name: asin, dtype: int64\n"
     ]
    },
    {
     "data": {
      "text/html": [
       "<div>\n",
       "<style scoped>\n",
       "    .dataframe tbody tr th:only-of-type {\n",
       "        vertical-align: middle;\n",
       "    }\n",
       "\n",
       "    .dataframe tbody tr th {\n",
       "        vertical-align: top;\n",
       "    }\n",
       "\n",
       "    .dataframe thead th {\n",
       "        text-align: right;\n",
       "    }\n",
       "</style>\n",
       "<table border=\"1\" class=\"dataframe\">\n",
       "  <thead>\n",
       "    <tr style=\"text-align: right;\">\n",
       "      <th></th>\n",
       "      <th>reviewerID</th>\n",
       "      <th>asin</th>\n",
       "      <th>reviewerName</th>\n",
       "      <th>helpful</th>\n",
       "      <th>reviewText</th>\n",
       "      <th>overall</th>\n",
       "      <th>summary</th>\n",
       "      <th>unixReviewTime</th>\n",
       "      <th>reviewTime</th>\n",
       "      <th>sentiment</th>\n",
       "    </tr>\n",
       "  </thead>\n",
       "  <tbody>\n",
       "    <tr>\n",
       "      <td>0</td>\n",
       "      <td>A1E5ZR1Z4OQJG</td>\n",
       "      <td>1495329321</td>\n",
       "      <td>Pure Jonel \"Pure Jonel\"</td>\n",
       "      <td>[0, 0]</td>\n",
       "      <td>Da Silva takes the divine by storm with this u...</td>\n",
       "      <td>4</td>\n",
       "      <td>An amazing first novel</td>\n",
       "      <td>1396137600</td>\n",
       "      <td>03 30, 2014</td>\n",
       "      <td>POSITIVE</td>\n",
       "    </tr>\n",
       "    <tr>\n",
       "      <td>1</td>\n",
       "      <td>A30PZPI6FPH0A7</td>\n",
       "      <td>0399157565</td>\n",
       "      <td>Jackmollie</td>\n",
       "      <td>[0, 0]</td>\n",
       "      <td>For me personally it's the most disappointing ...</td>\n",
       "      <td>2</td>\n",
       "      <td>disappointed</td>\n",
       "      <td>1400112000</td>\n",
       "      <td>05 15, 2014</td>\n",
       "      <td>NEGATIVE</td>\n",
       "    </tr>\n",
       "    <tr>\n",
       "      <td>2</td>\n",
       "      <td>A1GQ2UI5BKCCRD</td>\n",
       "      <td>0984528105</td>\n",
       "      <td>Gail Hodges</td>\n",
       "      <td>[0, 0]</td>\n",
       "      <td>Very simple book, but leaves you feeling good....</td>\n",
       "      <td>4</td>\n",
       "      <td>Good book</td>\n",
       "      <td>1401235200</td>\n",
       "      <td>05 28, 2014</td>\n",
       "      <td>POSITIVE</td>\n",
       "    </tr>\n",
       "    <tr>\n",
       "      <td>3</td>\n",
       "      <td>A2DF4LQQI6KSQ2</td>\n",
       "      <td>0804139024</td>\n",
       "      <td>Olga</td>\n",
       "      <td>[0, 0]</td>\n",
       "      <td>I read a library copy of this exceptionally we...</td>\n",
       "      <td>5</td>\n",
       "      <td>Science Fiction at its best!</td>\n",
       "      <td>1396483200</td>\n",
       "      <td>04 3, 2014</td>\n",
       "      <td>POSITIVE</td>\n",
       "    </tr>\n",
       "    <tr>\n",
       "      <td>4</td>\n",
       "      <td>A1UAMAWY966P2</td>\n",
       "      <td>0765317583</td>\n",
       "      <td>Nadyne M Ichimura</td>\n",
       "      <td>[0, 0]</td>\n",
       "      <td>With the government knowing this could happen ...</td>\n",
       "      <td>5</td>\n",
       "      <td>Excellent story</td>\n",
       "      <td>1397001600</td>\n",
       "      <td>04 9, 2014</td>\n",
       "      <td>POSITIVE</td>\n",
       "    </tr>\n",
       "    <tr>\n",
       "      <td>...</td>\n",
       "      <td>...</td>\n",
       "      <td>...</td>\n",
       "      <td>...</td>\n",
       "      <td>...</td>\n",
       "      <td>...</td>\n",
       "      <td>...</td>\n",
       "      <td>...</td>\n",
       "      <td>...</td>\n",
       "      <td>...</td>\n",
       "      <td>...</td>\n",
       "    </tr>\n",
       "    <tr>\n",
       "      <td>995</td>\n",
       "      <td>A1Q3P5W409XK8I</td>\n",
       "      <td>0385346824</td>\n",
       "      <td>Wright</td>\n",
       "      <td>[0, 0]</td>\n",
       "      <td>I thoroughly enjoyed this book. I've read the ...</td>\n",
       "      <td>5</td>\n",
       "      <td>A very fun read.</td>\n",
       "      <td>1404691200</td>\n",
       "      <td>07 7, 2014</td>\n",
       "      <td>POSITIVE</td>\n",
       "    </tr>\n",
       "    <tr>\n",
       "      <td>996</td>\n",
       "      <td>AOFXJE92VZHJA</td>\n",
       "      <td>B00J9312KQ</td>\n",
       "      <td>LaVonMoffett \"heavy reader\"</td>\n",
       "      <td>[0, 0]</td>\n",
       "      <td>I was impressed with not only the characters o...</td>\n",
       "      <td>5</td>\n",
       "      <td>Loved the story</td>\n",
       "      <td>1400371200</td>\n",
       "      <td>05 18, 2014</td>\n",
       "      <td>POSITIVE</td>\n",
       "    </tr>\n",
       "    <tr>\n",
       "      <td>997</td>\n",
       "      <td>A1OH43Q6Q05ULQ</td>\n",
       "      <td>0553808036</td>\n",
       "      <td>Jaci</td>\n",
       "      <td>[0, 0]</td>\n",
       "      <td>I like the characters.  I had read the short s...</td>\n",
       "      <td>5</td>\n",
       "      <td>Angels among us?</td>\n",
       "      <td>1396915200</td>\n",
       "      <td>04 8, 2014</td>\n",
       "      <td>POSITIVE</td>\n",
       "    </tr>\n",
       "    <tr>\n",
       "      <td>998</td>\n",
       "      <td>A34QXHSIS1IFNS</td>\n",
       "      <td>B00BPTTFOW</td>\n",
       "      <td>H.Smith</td>\n",
       "      <td>[8, 9]</td>\n",
       "      <td>She got way she wanted,but can she pick the ri...</td>\n",
       "      <td>5</td>\n",
       "      <td>Which one is the real one</td>\n",
       "      <td>1401408000</td>\n",
       "      <td>05 30, 2014</td>\n",
       "      <td>POSITIVE</td>\n",
       "    </tr>\n",
       "    <tr>\n",
       "      <td>999</td>\n",
       "      <td>A1L1PDGJNOKGA</td>\n",
       "      <td>1490321101</td>\n",
       "      <td>L Doll \"L\"</td>\n",
       "      <td>[0, 0]</td>\n",
       "      <td>All these twists, turns and discoveries. There...</td>\n",
       "      <td>5</td>\n",
       "      <td>YO!!!! Craziest Installment Ever!</td>\n",
       "      <td>1395187200</td>\n",
       "      <td>03 19, 2014</td>\n",
       "      <td>POSITIVE</td>\n",
       "    </tr>\n",
       "  </tbody>\n",
       "</table>\n",
       "<p>1000 rows × 10 columns</p>\n",
       "</div>"
      ],
      "text/plain": [
       "         reviewerID        asin                 reviewerName helpful  \\\n",
       "0     A1E5ZR1Z4OQJG  1495329321      Pure Jonel \"Pure Jonel\"  [0, 0]   \n",
       "1    A30PZPI6FPH0A7  0399157565                   Jackmollie  [0, 0]   \n",
       "2    A1GQ2UI5BKCCRD  0984528105                  Gail Hodges  [0, 0]   \n",
       "3    A2DF4LQQI6KSQ2  0804139024                         Olga  [0, 0]   \n",
       "4     A1UAMAWY966P2  0765317583            Nadyne M Ichimura  [0, 0]   \n",
       "..              ...         ...                          ...     ...   \n",
       "995  A1Q3P5W409XK8I  0385346824                       Wright  [0, 0]   \n",
       "996   AOFXJE92VZHJA  B00J9312KQ  LaVonMoffett \"heavy reader\"  [0, 0]   \n",
       "997  A1OH43Q6Q05ULQ  0553808036                         Jaci  [0, 0]   \n",
       "998  A34QXHSIS1IFNS  B00BPTTFOW                      H.Smith  [8, 9]   \n",
       "999   A1L1PDGJNOKGA  1490321101                   L Doll \"L\"  [0, 0]   \n",
       "\n",
       "                                            reviewText  overall  \\\n",
       "0    Da Silva takes the divine by storm with this u...        4   \n",
       "1    For me personally it's the most disappointing ...        2   \n",
       "2    Very simple book, but leaves you feeling good....        4   \n",
       "3    I read a library copy of this exceptionally we...        5   \n",
       "4    With the government knowing this could happen ...        5   \n",
       "..                                                 ...      ...   \n",
       "995  I thoroughly enjoyed this book. I've read the ...        5   \n",
       "996  I was impressed with not only the characters o...        5   \n",
       "997  I like the characters.  I had read the short s...        5   \n",
       "998  She got way she wanted,but can she pick the ri...        5   \n",
       "999  All these twists, turns and discoveries. There...        5   \n",
       "\n",
       "                               summary  unixReviewTime   reviewTime sentiment  \n",
       "0               An amazing first novel      1396137600  03 30, 2014  POSITIVE  \n",
       "1                         disappointed      1400112000  05 15, 2014  NEGATIVE  \n",
       "2                            Good book      1401235200  05 28, 2014  POSITIVE  \n",
       "3         Science Fiction at its best!      1396483200   04 3, 2014  POSITIVE  \n",
       "4                      Excellent story      1397001600   04 9, 2014  POSITIVE  \n",
       "..                                 ...             ...          ...       ...  \n",
       "995                   A very fun read.      1404691200   07 7, 2014  POSITIVE  \n",
       "996                    Loved the story      1400371200  05 18, 2014  POSITIVE  \n",
       "997                   Angels among us?      1396915200   04 8, 2014  POSITIVE  \n",
       "998          Which one is the real one      1401408000  05 30, 2014  POSITIVE  \n",
       "999  YO!!!! Craziest Installment Ever!      1395187200  03 19, 2014  POSITIVE  \n",
       "\n",
       "[1000 rows x 10 columns]"
      ]
     },
     "execution_count": 2,
     "metadata": {},
     "output_type": "execute_result"
    }
   ],
   "source": [
    "import pandas as pd\n",
    "df = pd.read_json('Books_small.json', lines=True)\n",
    "df['sentiment'] = 'NEGATIVE'\n",
    "df.loc[(df.overall == 3), ['sentiment']] = 'NEUTRAL'\n",
    "df.loc[(df.overall >  3), ['sentiment']] = 'POSITIVE'\n",
    "# find the number of positive and negative reviews\n",
    "print(df.groupby(['sentiment']).count()['asin'])\n",
    "df"
   ]
  },
  {
   "cell_type": "markdown",
   "metadata": {},
   "source": [
    "# split dataframe into training and test data"
   ]
  },
  {
   "cell_type": "code",
   "execution_count": 2,
   "metadata": {},
   "outputs": [
    {
     "data": {
      "text/html": [
       "<div>\n",
       "<style scoped>\n",
       "    .dataframe tbody tr th:only-of-type {\n",
       "        vertical-align: middle;\n",
       "    }\n",
       "\n",
       "    .dataframe tbody tr th {\n",
       "        vertical-align: top;\n",
       "    }\n",
       "\n",
       "    .dataframe thead th {\n",
       "        text-align: right;\n",
       "    }\n",
       "</style>\n",
       "<table border=\"1\" class=\"dataframe\">\n",
       "  <thead>\n",
       "    <tr style=\"text-align: right;\">\n",
       "      <th></th>\n",
       "      <th>reviewerID</th>\n",
       "      <th>asin</th>\n",
       "      <th>reviewerName</th>\n",
       "      <th>helpful</th>\n",
       "      <th>reviewText</th>\n",
       "      <th>overall</th>\n",
       "      <th>summary</th>\n",
       "      <th>unixReviewTime</th>\n",
       "      <th>reviewTime</th>\n",
       "      <th>sentiment</th>\n",
       "    </tr>\n",
       "  </thead>\n",
       "  <tbody>\n",
       "    <tr>\n",
       "      <td>703</td>\n",
       "      <td>A28VCFPVVSFEYB</td>\n",
       "      <td>1463561520</td>\n",
       "      <td>Amazon Customer</td>\n",
       "      <td>[0, 0]</td>\n",
       "      <td>Vivid characters and descriptions. The author ...</td>\n",
       "      <td>5</td>\n",
       "      <td>Great Read</td>\n",
       "      <td>1393372800</td>\n",
       "      <td>02 26, 2014</td>\n",
       "      <td>POSITIVE</td>\n",
       "    </tr>\n",
       "    <tr>\n",
       "      <td>311</td>\n",
       "      <td>A1WZU6M69O5R8V</td>\n",
       "      <td>0060774592</td>\n",
       "      <td>Zhi \"zhi\"</td>\n",
       "      <td>[0, 0]</td>\n",
       "      <td>Oh this is an awful bookA delightful awful boo...</td>\n",
       "      <td>5</td>\n",
       "      <td>This is a terrible book.  We love it.</td>\n",
       "      <td>1393977600</td>\n",
       "      <td>03 5, 2014</td>\n",
       "      <td>POSITIVE</td>\n",
       "    </tr>\n",
       "    <tr>\n",
       "      <td>722</td>\n",
       "      <td>A3MISPG4YIPYU1</td>\n",
       "      <td>1848191162</td>\n",
       "      <td>Matthew Russell \"Matthew Russell\"</td>\n",
       "      <td>[4, 4]</td>\n",
       "      <td>Mitchell has really gifted us with a gem. He p...</td>\n",
       "      <td>5</td>\n",
       "      <td>A wonderful collection of equally accessible a...</td>\n",
       "      <td>1393113600</td>\n",
       "      <td>02 23, 2014</td>\n",
       "      <td>POSITIVE</td>\n",
       "    </tr>\n",
       "    <tr>\n",
       "      <td>629</td>\n",
       "      <td>A127GQTJI4FP6Q</td>\n",
       "      <td>0671207148</td>\n",
       "      <td>alwayslearning</td>\n",
       "      <td>[0, 0]</td>\n",
       "      <td>Felt like I was floating down the river...Soli...</td>\n",
       "      <td>4</td>\n",
       "      <td>Wow</td>\n",
       "      <td>1388707200</td>\n",
       "      <td>01 3, 2014</td>\n",
       "      <td>POSITIVE</td>\n",
       "    </tr>\n",
       "    <tr>\n",
       "      <td>0</td>\n",
       "      <td>A1E5ZR1Z4OQJG</td>\n",
       "      <td>1495329321</td>\n",
       "      <td>Pure Jonel \"Pure Jonel\"</td>\n",
       "      <td>[0, 0]</td>\n",
       "      <td>Da Silva takes the divine by storm with this u...</td>\n",
       "      <td>4</td>\n",
       "      <td>An amazing first novel</td>\n",
       "      <td>1396137600</td>\n",
       "      <td>03 30, 2014</td>\n",
       "      <td>POSITIVE</td>\n",
       "    </tr>\n",
       "    <tr>\n",
       "      <td>...</td>\n",
       "      <td>...</td>\n",
       "      <td>...</td>\n",
       "      <td>...</td>\n",
       "      <td>...</td>\n",
       "      <td>...</td>\n",
       "      <td>...</td>\n",
       "      <td>...</td>\n",
       "      <td>...</td>\n",
       "      <td>...</td>\n",
       "      <td>...</td>\n",
       "    </tr>\n",
       "    <tr>\n",
       "      <td>106</td>\n",
       "      <td>A3V5KBIS9TWUVY</td>\n",
       "      <td>039916393X</td>\n",
       "      <td>Tina Says \"Tina Says\"</td>\n",
       "      <td>[1, 1]</td>\n",
       "      <td>Tracy Holczer's The Secret Hum of a Daisy is t...</td>\n",
       "      <td>5</td>\n",
       "      <td>The Secret Hum of a Daisy: An Absolute Must Read</td>\n",
       "      <td>1402272000</td>\n",
       "      <td>06 9, 2014</td>\n",
       "      <td>POSITIVE</td>\n",
       "    </tr>\n",
       "    <tr>\n",
       "      <td>270</td>\n",
       "      <td>A2DSNXBJ9B2HAD</td>\n",
       "      <td>1442365528</td>\n",
       "      <td>Professor Bob</td>\n",
       "      <td>[0, 0]</td>\n",
       "      <td>Red Sparrow is a grim, realistic, violent and ...</td>\n",
       "      <td>4</td>\n",
       "      <td>Grim, realistic and suspenseful!</td>\n",
       "      <td>1402876800</td>\n",
       "      <td>06 16, 2014</td>\n",
       "      <td>POSITIVE</td>\n",
       "    </tr>\n",
       "    <tr>\n",
       "      <td>860</td>\n",
       "      <td>A30DZJBG8ZEGHT</td>\n",
       "      <td>1844137864</td>\n",
       "      <td>Tab</td>\n",
       "      <td>[0, 10]</td>\n",
       "      <td>This was a gift, but some of the art inside is...</td>\n",
       "      <td>1</td>\n",
       "      <td>Don't agree with all of the art.</td>\n",
       "      <td>1393977600</td>\n",
       "      <td>03 5, 2014</td>\n",
       "      <td>NEGATIVE</td>\n",
       "    </tr>\n",
       "    <tr>\n",
       "      <td>435</td>\n",
       "      <td>A11ZIYONP0ENPG</td>\n",
       "      <td>1939416019</td>\n",
       "      <td>Francois Naude</td>\n",
       "      <td>[1, 2]</td>\n",
       "      <td>A fast flowing story of heroes and villains. I...</td>\n",
       "      <td>3</td>\n",
       "      <td>A quest of heroes</td>\n",
       "      <td>1391299200</td>\n",
       "      <td>02 2, 2014</td>\n",
       "      <td>NEUTRAL</td>\n",
       "    </tr>\n",
       "    <tr>\n",
       "      <td>102</td>\n",
       "      <td>A2I49R6VXVBU6</td>\n",
       "      <td>0800718763</td>\n",
       "      <td>m from mi</td>\n",
       "      <td>[0, 0]</td>\n",
       "      <td>Wow, I hardly know what to say about this book...</td>\n",
       "      <td>5</td>\n",
       "      <td>Incredible story, exceptionally written!!</td>\n",
       "      <td>1391731200</td>\n",
       "      <td>02 7, 2014</td>\n",
       "      <td>POSITIVE</td>\n",
       "    </tr>\n",
       "  </tbody>\n",
       "</table>\n",
       "<p>670 rows × 10 columns</p>\n",
       "</div>"
      ],
      "text/plain": [
       "         reviewerID        asin                       reviewerName  helpful  \\\n",
       "703  A28VCFPVVSFEYB  1463561520                    Amazon Customer   [0, 0]   \n",
       "311  A1WZU6M69O5R8V  0060774592                          Zhi \"zhi\"   [0, 0]   \n",
       "722  A3MISPG4YIPYU1  1848191162  Matthew Russell \"Matthew Russell\"   [4, 4]   \n",
       "629  A127GQTJI4FP6Q  0671207148                     alwayslearning   [0, 0]   \n",
       "0     A1E5ZR1Z4OQJG  1495329321            Pure Jonel \"Pure Jonel\"   [0, 0]   \n",
       "..              ...         ...                                ...      ...   \n",
       "106  A3V5KBIS9TWUVY  039916393X              Tina Says \"Tina Says\"   [1, 1]   \n",
       "270  A2DSNXBJ9B2HAD  1442365528                      Professor Bob   [0, 0]   \n",
       "860  A30DZJBG8ZEGHT  1844137864                                Tab  [0, 10]   \n",
       "435  A11ZIYONP0ENPG  1939416019                     Francois Naude   [1, 2]   \n",
       "102   A2I49R6VXVBU6  0800718763                          m from mi   [0, 0]   \n",
       "\n",
       "                                            reviewText  overall  \\\n",
       "703  Vivid characters and descriptions. The author ...        5   \n",
       "311  Oh this is an awful bookA delightful awful boo...        5   \n",
       "722  Mitchell has really gifted us with a gem. He p...        5   \n",
       "629  Felt like I was floating down the river...Soli...        4   \n",
       "0    Da Silva takes the divine by storm with this u...        4   \n",
       "..                                                 ...      ...   \n",
       "106  Tracy Holczer's The Secret Hum of a Daisy is t...        5   \n",
       "270  Red Sparrow is a grim, realistic, violent and ...        4   \n",
       "860  This was a gift, but some of the art inside is...        1   \n",
       "435  A fast flowing story of heroes and villains. I...        3   \n",
       "102  Wow, I hardly know what to say about this book...        5   \n",
       "\n",
       "                                               summary  unixReviewTime  \\\n",
       "703                                         Great Read      1393372800   \n",
       "311              This is a terrible book.  We love it.      1393977600   \n",
       "722  A wonderful collection of equally accessible a...      1393113600   \n",
       "629                                                Wow      1388707200   \n",
       "0                               An amazing first novel      1396137600   \n",
       "..                                                 ...             ...   \n",
       "106   The Secret Hum of a Daisy: An Absolute Must Read      1402272000   \n",
       "270                   Grim, realistic and suspenseful!      1402876800   \n",
       "860                   Don't agree with all of the art.      1393977600   \n",
       "435                                  A quest of heroes      1391299200   \n",
       "102          Incredible story, exceptionally written!!      1391731200   \n",
       "\n",
       "      reviewTime sentiment  \n",
       "703  02 26, 2014  POSITIVE  \n",
       "311   03 5, 2014  POSITIVE  \n",
       "722  02 23, 2014  POSITIVE  \n",
       "629   01 3, 2014  POSITIVE  \n",
       "0    03 30, 2014  POSITIVE  \n",
       "..           ...       ...  \n",
       "106   06 9, 2014  POSITIVE  \n",
       "270  06 16, 2014  POSITIVE  \n",
       "860   03 5, 2014  NEGATIVE  \n",
       "435   02 2, 2014   NEUTRAL  \n",
       "102   02 7, 2014  POSITIVE  \n",
       "\n",
       "[670 rows x 10 columns]"
      ]
     },
     "execution_count": 2,
     "metadata": {},
     "output_type": "execute_result"
    }
   ],
   "source": [
    "from sklearn.model_selection import train_test_split\n",
    "training, test = train_test_split(df, test_size = 0.33, random_state=42)\n",
    "training"
   ]
  },
  {
   "cell_type": "markdown",
   "metadata": {},
   "source": [
    "# vectorize text using bag of words"
   ]
  },
  {
   "cell_type": "code",
   "execution_count": 3,
   "metadata": {},
   "outputs": [
    {
     "data": {
      "text/plain": [
       "<330x7372 sparse matrix of type '<class 'numpy.int64'>'\n",
       "\twith 18336 stored elements in Compressed Sparse Row format>"
      ]
     },
     "execution_count": 3,
     "metadata": {},
     "output_type": "execute_result"
    }
   ],
   "source": [
    "from sklearn.feature_extraction.text import CountVectorizer\n",
    "vectorizer = CountVectorizer()\n",
    "trainingText = vectorizer.fit_transform(training.reviewText)\n",
    "testText = vectorizer.transform(test.reviewText)\n",
    "testText"
   ]
  },
  {
   "cell_type": "markdown",
   "metadata": {},
   "source": [
    "# classify text"
   ]
  },
  {
   "cell_type": "markdown",
   "metadata": {},
   "source": [
    "### linear SVM"
   ]
  },
  {
   "cell_type": "code",
   "execution_count": 4,
   "metadata": {},
   "outputs": [
    {
     "data": {
      "text/plain": [
       "SVC(C=1.0, cache_size=200, class_weight=None, coef0=0.0,\n",
       "    decision_function_shape='ovr', degree=3, gamma='auto_deprecated',\n",
       "    kernel='linear', max_iter=-1, probability=False, random_state=None,\n",
       "    shrinking=True, tol=0.001, verbose=False)"
      ]
     },
     "execution_count": 4,
     "metadata": {},
     "output_type": "execute_result"
    }
   ],
   "source": [
    "from sklearn.svm import SVC\n",
    "clf_svm = SVC(kernel='linear')\n",
    "clf_svm.fit(trainingText, training.sentiment)"
   ]
  },
  {
   "cell_type": "markdown",
   "metadata": {},
   "source": [
    "#### predict some text"
   ]
  },
  {
   "cell_type": "code",
   "execution_count": 5,
   "metadata": {},
   "outputs": [
    {
     "data": {
      "text/plain": [
       "array(['POSITIVE', 'POSITIVE', 'POSITIVE'], dtype=object)"
      ]
     },
     "execution_count": 5,
     "metadata": {},
     "output_type": "execute_result"
    }
   ],
   "source": [
    "badReview = ['This stuff is awful! Do not buy! Awful!', 'I hate it', 'What a waste of money']\n",
    "badReviewText = vectorizer.transform(badReview)\n",
    "clf_svm.predict(badReviewText)"
   ]
  },
  {
   "cell_type": "markdown",
   "metadata": {},
   "source": [
    "#### decision tree"
   ]
  },
  {
   "cell_type": "code",
   "execution_count": 6,
   "metadata": {},
   "outputs": [
    {
     "data": {
      "text/plain": [
       "DecisionTreeClassifier(class_weight=None, criterion='gini', max_depth=None,\n",
       "                       max_features=None, max_leaf_nodes=None,\n",
       "                       min_impurity_decrease=0.0, min_impurity_split=None,\n",
       "                       min_samples_leaf=1, min_samples_split=2,\n",
       "                       min_weight_fraction_leaf=0.0, presort=False,\n",
       "                       random_state=None, splitter='best')"
      ]
     },
     "execution_count": 6,
     "metadata": {},
     "output_type": "execute_result"
    }
   ],
   "source": [
    "from sklearn.tree import DecisionTreeClassifier\n",
    "clf_dectree = DecisionTreeClassifier()\n",
    "clf_dectree.fit(trainingText, training.sentiment)"
   ]
  },
  {
   "cell_type": "markdown",
   "metadata": {},
   "source": [
    "#### predict from dec tree"
   ]
  },
  {
   "cell_type": "code",
   "execution_count": 7,
   "metadata": {},
   "outputs": [
    {
     "data": {
      "text/plain": [
       "array(['POSITIVE', 'POSITIVE', 'NEGATIVE'], dtype=object)"
      ]
     },
     "execution_count": 7,
     "metadata": {},
     "output_type": "execute_result"
    }
   ],
   "source": [
    "clf_dectree.predict(badReviewText)"
   ]
  },
  {
   "cell_type": "markdown",
   "metadata": {},
   "source": [
    "#### naive Bayes"
   ]
  },
  {
   "cell_type": "code",
   "execution_count": 8,
   "metadata": {},
   "outputs": [
    {
     "data": {
      "text/plain": [
       "GaussianNB(priors=None, var_smoothing=1e-09)"
      ]
     },
     "execution_count": 8,
     "metadata": {},
     "output_type": "execute_result"
    }
   ],
   "source": [
    "from sklearn.naive_bayes import GaussianNB\n",
    "clf_nb = GaussianNB()\n",
    "clf_nb.fit(trainingText.toarray(), training.sentiment)"
   ]
  },
  {
   "cell_type": "markdown",
   "metadata": {},
   "source": [
    "#### predict from nb"
   ]
  },
  {
   "cell_type": "code",
   "execution_count": 9,
   "metadata": {},
   "outputs": [
    {
     "data": {
      "text/plain": [
       "array(['POSITIVE', 'NEUTRAL', 'NEGATIVE'], dtype='<U8')"
      ]
     },
     "execution_count": 9,
     "metadata": {},
     "output_type": "execute_result"
    }
   ],
   "source": [
    "clf_nb.predict(badReviewText.toarray())"
   ]
  },
  {
   "cell_type": "markdown",
   "metadata": {},
   "source": [
    "#### logistic regression"
   ]
  },
  {
   "cell_type": "code",
   "execution_count": 10,
   "metadata": {},
   "outputs": [
    {
     "data": {
      "text/plain": [
       "LogisticRegression(C=1.0, class_weight=None, dual=False, fit_intercept=True,\n",
       "                   intercept_scaling=1, l1_ratio=None, max_iter=1000,\n",
       "                   multi_class='auto', n_jobs=None, penalty='l2',\n",
       "                   random_state=None, solver='lbfgs', tol=0.0001, verbose=0,\n",
       "                   warm_start=False)"
      ]
     },
     "execution_count": 10,
     "metadata": {},
     "output_type": "execute_result"
    }
   ],
   "source": [
    "from sklearn.linear_model import LogisticRegression\n",
    "clf_lr = LogisticRegression(solver='lbfgs', multi_class='auto', max_iter=1000)\n",
    "clf_lr.fit(trainingText, training.sentiment)"
   ]
  },
  {
   "cell_type": "markdown",
   "metadata": {},
   "source": [
    "#### predict from lr"
   ]
  },
  {
   "cell_type": "code",
   "execution_count": 11,
   "metadata": {},
   "outputs": [
    {
     "data": {
      "text/plain": [
       "array(['POSITIVE', 'POSITIVE', 'POSITIVE'], dtype=object)"
      ]
     },
     "execution_count": 11,
     "metadata": {},
     "output_type": "execute_result"
    }
   ],
   "source": [
    "clf_lr.predict(badReviewText)"
   ]
  },
  {
   "cell_type": "markdown",
   "metadata": {},
   "source": [
    "# evaluation"
   ]
  },
  {
   "cell_type": "code",
   "execution_count": 12,
   "metadata": {},
   "outputs": [
    {
     "name": "stdout",
     "output_type": "stream",
     "text": [
      "SVM score: 0.8242424242424242\n",
      "Dec tree score: 0.7393939393939394\n",
      "NB score: 0.8121212121212121\n",
      "LR score: 0.8303030303030303\n"
     ]
    }
   ],
   "source": [
    "print('SVM score:', clf_svm.score(testText, test.sentiment))\n",
    "print('Dec tree score:', clf_dectree.score(testText, test.sentiment))\n",
    "print('NB score:', clf_nb.score(testText.toarray(), test.sentiment))\n",
    "print('LR score:', clf_lr.score(testText, test.sentiment))"
   ]
  },
  {
   "cell_type": "code",
   "execution_count": 13,
   "metadata": {},
   "outputs": [
    {
     "name": "stdout",
     "output_type": "stream",
     "text": [
      "SVM: [0.91319444 0.21052632 0.22222222]\n",
      "DT: [0.86021505 0.11940299 0.        ]\n",
      "NB: [0.89678511 0.08510638 0.09090909]\n",
      "LR: [0.91370558 0.12244898 0.1       ]\n"
     ]
    }
   ],
   "source": [
    "from sklearn.metrics import f1_score\n",
    "print ('SVM:', f1_score(test.sentiment, clf_svm.predict(testText), average=None, labels=['POSITIVE', 'NEUTRAL', 'NEGATIVE']))\n",
    "print ('DT:', f1_score(test.sentiment, clf_dectree.predict(testText), average=None, labels=['POSITIVE', 'NEUTRAL', 'NEGATIVE']))\n",
    "print ('NB:', f1_score(test.sentiment, clf_nb.predict(testText.toarray()), average=None, labels=['POSITIVE', 'NEUTRAL', 'NEGATIVE']))\n",
    "print ('LR:', f1_score(test.sentiment, clf_lr.predict(testText), average=None, labels=['POSITIVE', 'NEUTRAL', 'NEGATIVE']))"
   ]
  },
  {
   "cell_type": "markdown",
   "metadata": {},
   "source": [
    "# balance number of positive and negative reviews"
   ]
  },
  {
   "cell_type": "code",
   "execution_count": 14,
   "metadata": {},
   "outputs": [
    {
     "data": {
      "text/html": [
       "<div>\n",
       "<style scoped>\n",
       "    .dataframe tbody tr th:only-of-type {\n",
       "        vertical-align: middle;\n",
       "    }\n",
       "\n",
       "    .dataframe tbody tr th {\n",
       "        vertical-align: top;\n",
       "    }\n",
       "\n",
       "    .dataframe thead th {\n",
       "        text-align: right;\n",
       "    }\n",
       "</style>\n",
       "<table border=\"1\" class=\"dataframe\">\n",
       "  <thead>\n",
       "    <tr style=\"text-align: right;\">\n",
       "      <th></th>\n",
       "      <th>reviewerID</th>\n",
       "      <th>asin</th>\n",
       "      <th>reviewerName</th>\n",
       "      <th>helpful</th>\n",
       "      <th>reviewText</th>\n",
       "      <th>overall</th>\n",
       "      <th>summary</th>\n",
       "      <th>unixReviewTime</th>\n",
       "      <th>reviewTime</th>\n",
       "      <th>sentiment</th>\n",
       "    </tr>\n",
       "  </thead>\n",
       "  <tbody>\n",
       "    <tr>\n",
       "      <td>471</td>\n",
       "      <td>A3N9LU1Y0FWOGU</td>\n",
       "      <td>B00IYYK2JS</td>\n",
       "      <td>Read4ever \"G\"</td>\n",
       "      <td>[0, 0]</td>\n",
       "      <td>I've only read a few pages so far, so I can't ...</td>\n",
       "      <td>2</td>\n",
       "      <td>Truthfully</td>\n",
       "      <td>1395100800</td>\n",
       "      <td>03 18, 2014</td>\n",
       "      <td>NEGATIVE</td>\n",
       "    </tr>\n",
       "    <tr>\n",
       "      <td>468</td>\n",
       "      <td>A1WVO00PIPF8RA</td>\n",
       "      <td>0385536518</td>\n",
       "      <td>Maggot Lady</td>\n",
       "      <td>[1, 2]</td>\n",
       "      <td>Seriously... I do not know why I even read it....</td>\n",
       "      <td>2</td>\n",
       "      <td>Dexter Downhill</td>\n",
       "      <td>1388966400</td>\n",
       "      <td>01 6, 2014</td>\n",
       "      <td>NEGATIVE</td>\n",
       "    </tr>\n",
       "    <tr>\n",
       "      <td>55</td>\n",
       "      <td>A1098Z3D7ENJ2F</td>\n",
       "      <td>B00GVQOJZ4</td>\n",
       "      <td>veronica mostel</td>\n",
       "      <td>[0, 0]</td>\n",
       "      <td>WOW.  THESE BOOKS ARE GREAT.  CANNOT WAIT FOR ...</td>\n",
       "      <td>5</td>\n",
       "      <td>LOVED IT</td>\n",
       "      <td>1398038400</td>\n",
       "      <td>04 21, 2014</td>\n",
       "      <td>POSITIVE</td>\n",
       "    </tr>\n",
       "    <tr>\n",
       "      <td>28</td>\n",
       "      <td>A3F1T8R9CVNPSN</td>\n",
       "      <td>0316098329</td>\n",
       "      <td>Eileen M Brisbane</td>\n",
       "      <td>[0, 0]</td>\n",
       "      <td>What a beautifully written book from a child's...</td>\n",
       "      <td>5</td>\n",
       "      <td>Sad yet moving</td>\n",
       "      <td>1400112000</td>\n",
       "      <td>05 15, 2014</td>\n",
       "      <td>POSITIVE</td>\n",
       "    </tr>\n",
       "    <tr>\n",
       "      <td>7</td>\n",
       "      <td>ATT15IFF1UBAQ</td>\n",
       "      <td>0060781939</td>\n",
       "      <td>A. Nuhanovic \"AlNuhano\"</td>\n",
       "      <td>[0, 0]</td>\n",
       "      <td>It was good....there is a lot going on with mu...</td>\n",
       "      <td>4</td>\n",
       "      <td>Very fast paced</td>\n",
       "      <td>1397606400</td>\n",
       "      <td>04 16, 2014</td>\n",
       "      <td>POSITIVE</td>\n",
       "    </tr>\n",
       "    <tr>\n",
       "      <td>...</td>\n",
       "      <td>...</td>\n",
       "      <td>...</td>\n",
       "      <td>...</td>\n",
       "      <td>...</td>\n",
       "      <td>...</td>\n",
       "      <td>...</td>\n",
       "      <td>...</td>\n",
       "      <td>...</td>\n",
       "      <td>...</td>\n",
       "      <td>...</td>\n",
       "    </tr>\n",
       "    <tr>\n",
       "      <td>555</td>\n",
       "      <td>ANJ8YJQP5GRRF</td>\n",
       "      <td>0528853392</td>\n",
       "      <td>Lisa H.</td>\n",
       "      <td>[0, 1]</td>\n",
       "      <td>Got rid of this obsolete crap as soon as the c...</td>\n",
       "      <td>1</td>\n",
       "      <td>Who knows?</td>\n",
       "      <td>1398470400</td>\n",
       "      <td>04 26, 2014</td>\n",
       "      <td>NEGATIVE</td>\n",
       "    </tr>\n",
       "    <tr>\n",
       "      <td>283</td>\n",
       "      <td>A1JMXGA0C0LR2C</td>\n",
       "      <td>0800734297</td>\n",
       "      <td>Ronnilu</td>\n",
       "      <td>[0, 0]</td>\n",
       "      <td>As a Christian, I enjoy a well-written, exciti...</td>\n",
       "      <td>3</td>\n",
       "      <td>So-So</td>\n",
       "      <td>1391385600</td>\n",
       "      <td>02 3, 2014</td>\n",
       "      <td>NEUTRAL</td>\n",
       "    </tr>\n",
       "    <tr>\n",
       "      <td>313</td>\n",
       "      <td>A3GBNOO6OAY0B1</td>\n",
       "      <td>1628548614</td>\n",
       "      <td>Gina M.</td>\n",
       "      <td>[1, 1]</td>\n",
       "      <td>Definitely a man&amp;#8217;s book.  A narrative of...</td>\n",
       "      <td>3</td>\n",
       "      <td>A quick Read</td>\n",
       "      <td>1394064000</td>\n",
       "      <td>03 6, 2014</td>\n",
       "      <td>NEUTRAL</td>\n",
       "    </tr>\n",
       "    <tr>\n",
       "      <td>13</td>\n",
       "      <td>AL3Y69LODZTP8</td>\n",
       "      <td>0449908585</td>\n",
       "      <td>Dropletform \"Drop\"</td>\n",
       "      <td>[0, 0]</td>\n",
       "      <td>I liked the interwoven personal drama, set off...</td>\n",
       "      <td>4</td>\n",
       "      <td>More good stuff from Theroux</td>\n",
       "      <td>1397606400</td>\n",
       "      <td>04 16, 2014</td>\n",
       "      <td>POSITIVE</td>\n",
       "    </tr>\n",
       "    <tr>\n",
       "      <td>615</td>\n",
       "      <td>A2PW3LUBBOEG05</td>\n",
       "      <td>1940014018</td>\n",
       "      <td>MoonlightReader</td>\n",
       "      <td>[0, 0]</td>\n",
       "      <td>Princess Ashling is excited to see her father,...</td>\n",
       "      <td>3</td>\n",
       "      <td>It's definitely unique compared to other werew...</td>\n",
       "      <td>1389744000</td>\n",
       "      <td>01 15, 2014</td>\n",
       "      <td>NEUTRAL</td>\n",
       "    </tr>\n",
       "  </tbody>\n",
       "</table>\n",
       "<p>186 rows × 10 columns</p>\n",
       "</div>"
      ],
      "text/plain": [
       "         reviewerID        asin             reviewerName helpful  \\\n",
       "471  A3N9LU1Y0FWOGU  B00IYYK2JS            Read4ever \"G\"  [0, 0]   \n",
       "468  A1WVO00PIPF8RA  0385536518              Maggot Lady  [1, 2]   \n",
       "55   A1098Z3D7ENJ2F  B00GVQOJZ4          veronica mostel  [0, 0]   \n",
       "28   A3F1T8R9CVNPSN  0316098329        Eileen M Brisbane  [0, 0]   \n",
       "7     ATT15IFF1UBAQ  0060781939  A. Nuhanovic \"AlNuhano\"  [0, 0]   \n",
       "..              ...         ...                      ...     ...   \n",
       "555   ANJ8YJQP5GRRF  0528853392                  Lisa H.  [0, 1]   \n",
       "283  A1JMXGA0C0LR2C  0800734297                  Ronnilu  [0, 0]   \n",
       "313  A3GBNOO6OAY0B1  1628548614                  Gina M.  [1, 1]   \n",
       "13    AL3Y69LODZTP8  0449908585       Dropletform \"Drop\"  [0, 0]   \n",
       "615  A2PW3LUBBOEG05  1940014018          MoonlightReader  [0, 0]   \n",
       "\n",
       "                                            reviewText  overall  \\\n",
       "471  I've only read a few pages so far, so I can't ...        2   \n",
       "468  Seriously... I do not know why I even read it....        2   \n",
       "55   WOW.  THESE BOOKS ARE GREAT.  CANNOT WAIT FOR ...        5   \n",
       "28   What a beautifully written book from a child's...        5   \n",
       "7    It was good....there is a lot going on with mu...        4   \n",
       "..                                                 ...      ...   \n",
       "555  Got rid of this obsolete crap as soon as the c...        1   \n",
       "283  As a Christian, I enjoy a well-written, exciti...        3   \n",
       "313  Definitely a man&#8217;s book.  A narrative of...        3   \n",
       "13   I liked the interwoven personal drama, set off...        4   \n",
       "615  Princess Ashling is excited to see her father,...        3   \n",
       "\n",
       "                                               summary  unixReviewTime  \\\n",
       "471                                         Truthfully      1395100800   \n",
       "468                                    Dexter Downhill      1388966400   \n",
       "55                                            LOVED IT      1398038400   \n",
       "28                                      Sad yet moving      1400112000   \n",
       "7                                      Very fast paced      1397606400   \n",
       "..                                                 ...             ...   \n",
       "555                                         Who knows?      1398470400   \n",
       "283                                              So-So      1391385600   \n",
       "313                                       A quick Read      1394064000   \n",
       "13                        More good stuff from Theroux      1397606400   \n",
       "615  It's definitely unique compared to other werew...      1389744000   \n",
       "\n",
       "      reviewTime sentiment  \n",
       "471  03 18, 2014  NEGATIVE  \n",
       "468   01 6, 2014  NEGATIVE  \n",
       "55   04 21, 2014  POSITIVE  \n",
       "28   05 15, 2014  POSITIVE  \n",
       "7    04 16, 2014  POSITIVE  \n",
       "..           ...       ...  \n",
       "555  04 26, 2014  NEGATIVE  \n",
       "283   02 3, 2014   NEUTRAL  \n",
       "313   03 6, 2014   NEUTRAL  \n",
       "13   04 16, 2014  POSITIVE  \n",
       "615  01 15, 2014   NEUTRAL  \n",
       "\n",
       "[186 rows x 10 columns]"
      ]
     },
     "execution_count": 14,
     "metadata": {},
     "output_type": "execute_result"
    }
   ],
   "source": [
    "negative = df[(df.sentiment == 'NEGATIVE')]\n",
    "#print (negative)\n",
    "positive = df[(df.sentiment == 'POSITIVE')][:len(negative)]\n",
    "#print (positive)\n",
    "neutral = df[(df.sentiment == 'NEUTRAL')][:len(negative)]\n",
    "balanced = pd.concat([negative, positive, neutral])\n",
    "#print (balanced)\n",
    "import sklearn.utils\n",
    "balanced = sklearn.utils.shuffle(balanced)\n",
    "balanced"
   ]
  },
  {
   "cell_type": "markdown",
   "metadata": {},
   "source": [
    "# make a bag of words for balanced dataframe"
   ]
  },
  {
   "cell_type": "code",
   "execution_count": 15,
   "metadata": {},
   "outputs": [],
   "source": [
    "balancedText = vectorizer.fit_transform(balanced.reviewText)\n",
    "badReviewText = vectorizer.transform(badReview)"
   ]
  },
  {
   "cell_type": "markdown",
   "metadata": {},
   "source": [
    "# classify balanced data"
   ]
  },
  {
   "cell_type": "code",
   "execution_count": 21,
   "metadata": {},
   "outputs": [
    {
     "data": {
      "text/plain": [
       "SVC(C=1.0, cache_size=200, class_weight=None, coef0=0.0,\n",
       "    decision_function_shape='ovr', degree=3, gamma='auto_deprecated',\n",
       "    kernel='linear', max_iter=-1, probability=False, random_state=None,\n",
       "    shrinking=True, tol=0.001, verbose=False)"
      ]
     },
     "execution_count": 21,
     "metadata": {},
     "output_type": "execute_result"
    }
   ],
   "source": [
    "clf_svm.fit(balancedText, balanced.sentiment)"
   ]
  },
  {
   "cell_type": "code",
   "execution_count": 22,
   "metadata": {},
   "outputs": [
    {
     "data": {
      "text/plain": [
       "array(['NEGATIVE', 'NEGATIVE', 'NEGATIVE'], dtype=object)"
      ]
     },
     "execution_count": 22,
     "metadata": {},
     "output_type": "execute_result"
    }
   ],
   "source": [
    "clf_svm.predict(badReviewText)"
   ]
  },
  {
   "cell_type": "markdown",
   "metadata": {},
   "source": [
    "# OMG! now try with decision tree!"
   ]
  },
  {
   "cell_type": "code",
   "execution_count": 23,
   "metadata": {},
   "outputs": [
    {
     "data": {
      "text/plain": [
       "DecisionTreeClassifier(class_weight=None, criterion='gini', max_depth=None,\n",
       "                       max_features=None, max_leaf_nodes=None,\n",
       "                       min_impurity_decrease=0.0, min_impurity_split=None,\n",
       "                       min_samples_leaf=1, min_samples_split=2,\n",
       "                       min_weight_fraction_leaf=0.0, presort=False,\n",
       "                       random_state=None, splitter='best')"
      ]
     },
     "execution_count": 23,
     "metadata": {},
     "output_type": "execute_result"
    }
   ],
   "source": [
    "clf_dectree.fit(balancedText, balanced.sentiment)"
   ]
  },
  {
   "cell_type": "code",
   "execution_count": 25,
   "metadata": {},
   "outputs": [
    {
     "data": {
      "text/plain": [
       "array(['NEGATIVE', 'NEGATIVE', 'NEGATIVE'], dtype=object)"
      ]
     },
     "execution_count": 25,
     "metadata": {},
     "output_type": "execute_result"
    }
   ],
   "source": [
    "clf_dectree.predict(badReviewText)"
   ]
  },
  {
   "cell_type": "markdown",
   "metadata": {},
   "source": [
    "# Wow - now with naive bayes"
   ]
  },
  {
   "cell_type": "code",
   "execution_count": 28,
   "metadata": {},
   "outputs": [
    {
     "data": {
      "text/plain": [
       "GaussianNB(priors=None, var_smoothing=1e-09)"
      ]
     },
     "execution_count": 28,
     "metadata": {},
     "output_type": "execute_result"
    }
   ],
   "source": [
    "clf_nb.fit(balancedText.toarray(), balanced.sentiment)"
   ]
  },
  {
   "cell_type": "code",
   "execution_count": 31,
   "metadata": {},
   "outputs": [
    {
     "data": {
      "text/plain": [
       "array(['NEGATIVE', 'NEUTRAL', 'NEGATIVE'], dtype='<U8')"
      ]
     },
     "execution_count": 31,
     "metadata": {},
     "output_type": "execute_result"
    }
   ],
   "source": [
    "clf_nb.predict(badReviewText.toarray())"
   ]
  },
  {
   "cell_type": "markdown",
   "metadata": {},
   "source": [
    "# finally, with logistic regression"
   ]
  },
  {
   "cell_type": "code",
   "execution_count": 33,
   "metadata": {},
   "outputs": [
    {
     "data": {
      "text/plain": [
       "LogisticRegression(C=1.0, class_weight=None, dual=False, fit_intercept=True,\n",
       "                   intercept_scaling=1, l1_ratio=None, max_iter=1000,\n",
       "                   multi_class='auto', n_jobs=None, penalty='l2',\n",
       "                   random_state=None, solver='lbfgs', tol=0.0001, verbose=0,\n",
       "                   warm_start=False)"
      ]
     },
     "execution_count": 33,
     "metadata": {},
     "output_type": "execute_result"
    }
   ],
   "source": [
    "clf_lr.fit(balancedText.toarray(), balanced.sentiment)"
   ]
  },
  {
   "cell_type": "code",
   "execution_count": 34,
   "metadata": {},
   "outputs": [
    {
     "data": {
      "text/plain": [
       "array(['NEGATIVE', 'POSITIVE', 'NEGATIVE'], dtype=object)"
      ]
     },
     "execution_count": 34,
     "metadata": {},
     "output_type": "execute_result"
    }
   ],
   "source": [
    "clf_lr.predict(badReviewText)"
   ]
  }
 ],
 "metadata": {
  "kernelspec": {
   "display_name": "Python 3",
   "language": "python",
   "name": "python3"
  },
  "language_info": {
   "codemirror_mode": {
    "name": "ipython",
    "version": 3
   },
   "file_extension": ".py",
   "mimetype": "text/x-python",
   "name": "python",
   "nbconvert_exporter": "python",
   "pygments_lexer": "ipython3",
   "version": "3.7.4"
  }
 },
 "nbformat": 4,
 "nbformat_minor": 2
}
